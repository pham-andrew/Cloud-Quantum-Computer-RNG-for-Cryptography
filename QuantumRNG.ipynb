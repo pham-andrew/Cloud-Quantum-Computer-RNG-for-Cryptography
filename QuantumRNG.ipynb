{
 "cells": [
  {
   "cell_type": "code",
   "execution_count": 16,
   "id": "87d808d8",
   "metadata": {},
   "outputs": [],
   "source": [
    "import boto3\n",
    "from braket.circuits import Circuit\n",
    "from braket.aws import AwsDevice\n",
    "import matplotlib.pyplot as plt"
   ]
  },
  {
   "cell_type": "code",
   "execution_count": 17,
   "id": "0487a085",
   "metadata": {},
   "outputs": [],
   "source": [
    "aws_account_id = boto3.client(\"sts\").get_caller_identity()[\"Account\"]"
   ]
  },
  {
   "cell_type": "code",
   "execution_count": 63,
   "id": "521bb00d",
   "metadata": {},
   "outputs": [],
   "source": [
    "device = AwsDevice(\"arn:aws:braket:::device/qpu/ionq/ionQdevice\")"
   ]
  },
  {
   "cell_type": "code",
   "execution_count": 64,
   "id": "f51281be",
   "metadata": {},
   "outputs": [],
   "source": [
    "s3_folder = (f\"amazon-braket-output-{aws_account_id}\", \"D-Wave-Adv\")"
   ]
  },
  {
   "cell_type": "code",
   "execution_count": 65,
   "id": "febedf92",
   "metadata": {},
   "outputs": [],
   "source": [
    "q = Circuit().h(0).h(1).h(2).h(3).h(4).h(5).h(6).h(7).h(8).h(9).h(10)"
   ]
  },
  {
   "cell_type": "code",
   "execution_count": 66,
   "id": "009988a6",
   "metadata": {},
   "outputs": [],
   "source": [
    "task = device.run(q, s3_folder, shots=1000)"
   ]
  },
  {
   "cell_type": "code",
   "execution_count": null,
   "id": "aa27868d",
   "metadata": {},
   "outputs": [],
   "source": [
    "counts = task.result().measurement_counts\n",
    "print(counts)"
   ]
  },
  {
   "cell_type": "code",
   "execution_count": null,
   "id": "e40a533f",
   "metadata": {},
   "outputs": [],
   "source": [
    "plt.bar(counts.keys(), counts.values())"
   ]
  },
  {
   "cell_type": "code",
   "execution_count": null,
   "id": "5366ea63",
   "metadata": {},
   "outputs": [],
   "source": []
  }
 ],
 "metadata": {
  "kernelspec": {
   "display_name": "conda_braket",
   "language": "python",
   "name": "conda_braket"
  },
  "language_info": {
   "codemirror_mode": {
    "name": "ipython",
    "version": 3
   },
   "file_extension": ".py",
   "mimetype": "text/x-python",
   "name": "python",
   "nbconvert_exporter": "python",
   "pygments_lexer": "ipython3",
   "version": "3.7.10"
  }
 },
 "nbformat": 4,
 "nbformat_minor": 5
}
