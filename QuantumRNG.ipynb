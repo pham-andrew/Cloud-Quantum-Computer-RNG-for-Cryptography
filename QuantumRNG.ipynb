{
 "cells": [
  {
   "cell_type": "code",
   "execution_count": null,
   "id": "strange-minnesota",
   "metadata": {},
   "outputs": [],
   "source": [
    "import boto3\n",
    "from braket.circuits import Circuit\n",
    "from braket.aws import AwsDevice\n",
    "import matplotlib.pyplot as plt"
   ]
  },
  {
   "cell_type": "code",
   "execution_count": null,
   "id": "broad-woman",
   "metadata": {},
   "outputs": [],
   "source": [
    "aws_account_id = boto.3.client(\"sts\").get_called.identity()[\"Account\"]"
   ]
  },
  {
   "cell_type": "code",
   "execution_count": null,
   "id": "given-louis",
   "metadata": {},
   "outputs": [],
   "source": [
    "device = AwsDevice(\"arn:aws:braket:::device/qpu/d-wave/Advantage_system1\")"
   ]
  },
  {
   "cell_type": "code",
   "execution_count": null,
   "id": "spectacular-enterprise",
   "metadata": {},
   "outputs": [],
   "source": [
    "s3_folder = (f\"amazon-braket-output-{aws_account_id}\", \"D-Wave-Adv\")"
   ]
  },
  {
   "cell_type": "code",
   "execution_count": null,
   "id": "optional-baseline",
   "metadata": {},
   "outputs": [],
   "source": [
    "random = Circuit().h(0)"
   ]
  },
  {
   "cell_type": "code",
   "execution_count": null,
   "id": "engaging-planning",
   "metadata": {},
   "outputs": [],
   "source": [
    "task = device.run(random, s3_folder, shot=1)"
   ]
  }
 ],
 "metadata": {
  "kernelspec": {
   "display_name": "Python 3",
   "language": "python",
   "name": "python3"
  },
  "language_info": {
   "codemirror_mode": {
    "name": "ipython",
    "version": 3
   },
   "file_extension": ".py",
   "mimetype": "text/x-python",
   "name": "python",
   "nbconvert_exporter": "python",
   "pygments_lexer": "ipython3",
   "version": "3.6.13"
  }
 },
 "nbformat": 4,
 "nbformat_minor": 5
}
