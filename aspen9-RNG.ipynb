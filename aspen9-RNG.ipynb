{
 "cells": [
  {
   "cell_type": "code",
   "execution_count": 1,
   "id": "f282660f",
   "metadata": {},
   "outputs": [],
   "source": [
    "import boto3\n",
    "from braket.circuits import Circuit\n",
    "from braket.aws import AwsDevice\n",
    "import matplotlib.pyplot as plt"
   ]
  },
  {
   "cell_type": "code",
   "execution_count": 2,
   "id": "8bd30815",
   "metadata": {},
   "outputs": [],
   "source": [
    "aws_account_id = boto3.client(\"sts\").get_caller_identity()[\"Account\"]"
   ]
  },
  {
   "cell_type": "code",
   "execution_count": 4,
   "id": "38ffecc7",
   "metadata": {},
   "outputs": [],
   "source": [
    "device = AwsDevice(\"arn:aws:braket:::device/qpu/rigetti/Aspen-9\")"
   ]
  },
  {
   "cell_type": "code",
   "execution_count": 5,
   "id": "e1dc26d5",
   "metadata": {},
   "outputs": [],
   "source": [
    "s3_folder = (f\"amazon-braket-output-{aws_account_id}\", \"aspen-9\")"
   ]
  },
  {
   "cell_type": "code",
   "execution_count": 11,
   "id": "1cb717c5",
   "metadata": {},
   "outputs": [],
   "source": [
    "q = Circuit().h(0).h(1).h(2).h(3).h(4).h(5).h(6).h(7).h(8).h(9).h(10).h(11).h(12).h(13).h(14).h(15).h(16).h(17).h(18).h(19).h(20).h(21).h(22).h(23).h(24).h(25).h(26).h(27).h(28).h(29).h(30).h(31)"
   ]
  },
  {
   "cell_type": "code",
   "execution_count": 12,
   "id": "43961f4a",
   "metadata": {},
   "outputs": [],
   "source": [
    "task = device.run(q, s3_folder, shots=1000)"
   ]
  },
  {
   "cell_type": "code",
   "execution_count": null,
   "id": "209e859a",
   "metadata": {},
   "outputs": [],
   "source": []
  }
 ],
 "metadata": {
  "kernelspec": {
   "display_name": "conda_braket",
   "language": "python",
   "name": "conda_braket"
  },
  "language_info": {
   "codemirror_mode": {
    "name": "ipython",
    "version": 3
   },
   "file_extension": ".py",
   "mimetype": "text/x-python",
   "name": "python",
   "nbconvert_exporter": "python",
   "pygments_lexer": "ipython3",
   "version": "3.7.10"
  }
 },
 "nbformat": 4,
 "nbformat_minor": 5
}
